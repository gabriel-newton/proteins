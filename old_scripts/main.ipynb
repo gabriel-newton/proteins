{
 "cells": [
  {
   "cell_type": "code",
   "execution_count": 1,
   "id": "119f13b3",
   "metadata": {},
   "outputs": [
    {
     "name": "stderr",
     "output_type": "stream",
     "text": [
      "  WARNING: The script tqdm.exe is installed in 'C:\\Users\\sggnewto\\AppData\\Roaming\\Python\\Python312\\Scripts' which is not on PATH.\n",
      "  Consider adding this directory to PATH or, if you prefer to suppress this warning, use --no-warn-script-location.\n"
     ]
    }
   ],
   "source": [
    "!pip install -q pandas matplotlib tqdm"
   ]
  },
  {
   "cell_type": "code",
   "execution_count": 2,
   "id": "65cfb2d8",
   "metadata": {},
   "outputs": [
    {
     "name": "stdout",
     "output_type": "stream",
     "text": [
      "Building invariant file map... this may take a moment.\n"
     ]
    },
    {
     "name": "stderr",
     "output_type": "stream",
     "text": [
      "Mapping invariant files: 100%|██████████| 704688/704688 [00:01<00:00, 396455.45it/s]"
     ]
    },
    {
     "name": "stdout",
     "output_type": "stream",
     "text": [
      "File map built. Found 704688 unique invariant files.\n"
     ]
    },
    {
     "name": "stderr",
     "output_type": "stream",
     "text": [
      "\n"
     ]
    }
   ],
   "source": [
    "from kmer import KmerAnalyzer\n",
    "\n",
    "analyzer = KmerAnalyzer(1, 20)"
   ]
  },
  {
   "cell_type": "code",
   "execution_count": 3,
   "id": "3c781d2d",
   "metadata": {},
   "outputs": [
    {
     "name": "stdout",
     "output_type": "stream",
     "text": [
      "Location data not found. Running .create_location_data() first...\n",
      "Running full analysis to generate location data...\n"
     ]
    },
    {
     "name": "stderr",
     "output_type": "stream",
     "text": [
      "Finding all 1-mers: 100%|██████████| 425223/425223 [00:04<00:00, 102476.93it/s]\n",
      "Finding k-mer locations: 100%|██████████| 20/20 [01:05<00:00,  3.28s/it]\n"
     ]
    },
    {
     "name": "stdout",
     "output_type": "stream",
     "text": [
      "Saved new location data to 'k1\\geo_info_k1_locations.csv'.\n"
     ]
    },
    {
     "name": "stderr",
     "output_type": "stream",
     "text": [
      "Processing files: 100%|██████████| 425223/425223 [1:07:22<00:00, 105.18it/s]\n"
     ]
    },
    {
     "name": "stdout",
     "output_type": "stream",
     "text": [
      "\n",
      "--- Finalizing session: saving any remaining data... ---\n",
      "Save complete.\n"
     ]
    }
   ],
   "source": [
    "final = analyzer.extract_invariant_data()"
   ]
  }
 ],
 "metadata": {
  "kernelspec": {
   "display_name": "base",
   "language": "python",
   "name": "python3"
  },
  "language_info": {
   "codemirror_mode": {
    "name": "ipython",
    "version": 3
   },
   "file_extension": ".py",
   "mimetype": "text/x-python",
   "name": "python",
   "nbconvert_exporter": "python",
   "pygments_lexer": "ipython3",
   "version": "3.12.7"
  }
 },
 "nbformat": 4,
 "nbformat_minor": 5
}
